{
 "cells": [
  {
   "cell_type": "code",
   "execution_count": 1,
   "id": "fee08cef",
   "metadata": {},
   "outputs": [],
   "source": [
    "import pandas as pd"
   ]
  },
  {
   "cell_type": "code",
   "execution_count": 2,
   "id": "067a14dd",
   "metadata": {},
   "outputs": [],
   "source": [
    "pnyc=pd.read_csv('nycpta_cleaned.csv', index_col= 'ein')"
   ]
  },
  {
   "cell_type": "code",
   "execution_count": 3,
   "id": "29ac8f04",
   "metadata": {},
   "outputs": [
    {
     "name": "stderr",
     "output_type": "stream",
     "text": [
      "/Users/xiangyuren/opt/anaconda3/lib/python3.9/site-packages/IPython/core/interactiveshell.py:3444: DtypeWarning: Columns (0,126,127,128,150,151,152,185,223,224,228,229,232,233,234,236,237,249,303,304,305,306,307) have mixed types.Specify dtype option on import or set low_memory=False.\n",
      "  exec(code_obj, self.user_global_ns, self.user_ns)\n"
     ]
    }
   ],
   "source": [
    "snyc=pd.read_csv('nycschool_cleaned.csv', index_col= 'dbn')"
   ]
  },
  {
   "cell_type": "code",
   "execution_count": 4,
   "id": "20b5e328",
   "metadata": {},
   "outputs": [],
   "source": [
    "search_values = ['High school', 'Secondary School', 'Junior High-Intermediate-Middle']"
   ]
  },
  {
   "cell_type": "code",
   "execution_count": 5,
   "id": "9000274d",
   "metadata": {},
   "outputs": [],
   "source": [
    "snyc1 = snyc[snyc.location_category_description.str.contains('|'.join(search_values), na=False)]"
   ]
  },
  {
   "cell_type": "code",
   "execution_count": 6,
   "id": "00c630f2",
   "metadata": {},
   "outputs": [],
   "source": [
    "#snyc1.to_csv(\"nycschool_clean.csv\", encoding='utf8')"
   ]
  },
  {
   "cell_type": "code",
   "execution_count": 7,
   "id": "a8ccad71",
   "metadata": {},
   "outputs": [],
   "source": [
    "#snyc2 = pd.read_csv('nycschool_clean.csv', index_col= 'dbn')"
   ]
  },
  {
   "cell_type": "code",
   "execution_count": 8,
   "id": "b0d10f5b",
   "metadata": {},
   "outputs": [],
   "source": [
    "\n",
    "\n",
    "#snyc = snyc.drop(snyc[snyc.location_category_description == 'District Pre-K Center', 'Early Childhood', 'Elementary', 'Junior High-Intermediate-Middle', 'K-12 all grades', 'K-8'].index)"
   ]
  },
  {
   "cell_type": "code",
   "execution_count": 9,
   "id": "c27dfe39",
   "metadata": {},
   "outputs": [
    {
     "data": {
      "text/html": [
       "<div>\n",
       "<style scoped>\n",
       "    .dataframe tbody tr th:only-of-type {\n",
       "        vertical-align: middle;\n",
       "    }\n",
       "\n",
       "    .dataframe tbody tr th {\n",
       "        vertical-align: top;\n",
       "    }\n",
       "\n",
       "    .dataframe thead th {\n",
       "        text-align: right;\n",
       "    }\n",
       "</style>\n",
       "<table border=\"1\" class=\"dataframe\">\n",
       "  <thead>\n",
       "    <tr style=\"text-align: right;\">\n",
       "      <th></th>\n",
       "      <th>x</th>\n",
       "      <th>x_x</th>\n",
       "      <th>name</th>\n",
       "      <th>state</th>\n",
       "      <th>zip5</th>\n",
       "      <th>fips</th>\n",
       "      <th>taxper</th>\n",
       "      <th>fisyr</th>\n",
       "      <th>naics</th>\n",
       "      <th>ntee_final</th>\n",
       "      <th>...</th>\n",
       "      <th>totrev</th>\n",
       "      <th>exps</th>\n",
       "      <th>netinc</th>\n",
       "      <th>ass_boy</th>\n",
       "      <th>ass_eoy</th>\n",
       "      <th>fundbal</th>\n",
       "      <th>x_y</th>\n",
       "      <th>url</th>\n",
       "      <th>address</th>\n",
       "      <th>yearm</th>\n",
       "    </tr>\n",
       "    <tr>\n",
       "      <th>ein</th>\n",
       "      <th></th>\n",
       "      <th></th>\n",
       "      <th></th>\n",
       "      <th></th>\n",
       "      <th></th>\n",
       "      <th></th>\n",
       "      <th></th>\n",
       "      <th></th>\n",
       "      <th></th>\n",
       "      <th></th>\n",
       "      <th></th>\n",
       "      <th></th>\n",
       "      <th></th>\n",
       "      <th></th>\n",
       "      <th></th>\n",
       "      <th></th>\n",
       "      <th></th>\n",
       "      <th></th>\n",
       "      <th></th>\n",
       "      <th></th>\n",
       "      <th></th>\n",
       "    </tr>\n",
       "  </thead>\n",
       "  <tbody>\n",
       "    <tr>\n",
       "      <th>43644362</th>\n",
       "      <td>1</td>\n",
       "      <td>1</td>\n",
       "      <td>PTA NEW YORK CONGRESS</td>\n",
       "      <td>NY</td>\n",
       "      <td>10312</td>\n",
       "      <td>36085</td>\n",
       "      <td>200906.0</td>\n",
       "      <td>2009</td>\n",
       "      <td>813410</td>\n",
       "      <td>B94</td>\n",
       "      <td>...</td>\n",
       "      <td>51385.0</td>\n",
       "      <td>69884</td>\n",
       "      <td>-18499.0</td>\n",
       "      <td>27109.0</td>\n",
       "      <td>8610</td>\n",
       "      <td>8610</td>\n",
       "      <td>1</td>\n",
       "      <td>https://www.guidestar.org/profile/04-3644362</td>\n",
       "      <td>255 ionia ave</td>\n",
       "      <td>2009</td>\n",
       "    </tr>\n",
       "    <tr>\n",
       "      <th>43644362</th>\n",
       "      <td>2</td>\n",
       "      <td>2</td>\n",
       "      <td>PTA NEW YORK CONGRESS</td>\n",
       "      <td>NY</td>\n",
       "      <td>10312</td>\n",
       "      <td>36085</td>\n",
       "      <td>201006.0</td>\n",
       "      <td>2010</td>\n",
       "      <td>813410</td>\n",
       "      <td>B94</td>\n",
       "      <td>...</td>\n",
       "      <td>77442.0</td>\n",
       "      <td>62591</td>\n",
       "      <td>14851.0</td>\n",
       "      <td>8718.0</td>\n",
       "      <td>23569</td>\n",
       "      <td>23569</td>\n",
       "      <td>1</td>\n",
       "      <td>https://www.guidestar.org/profile/04-3644362</td>\n",
       "      <td>255 ionia ave</td>\n",
       "      <td>2010</td>\n",
       "    </tr>\n",
       "  </tbody>\n",
       "</table>\n",
       "<p>2 rows × 27 columns</p>\n",
       "</div>"
      ],
      "text/plain": [
       "          x  x_x                   name state   zip5   fips    taxper  fisyr  \\\n",
       "ein                                                                            \n",
       "43644362  1    1  PTA NEW YORK CONGRESS    NY  10312  36085  200906.0   2009   \n",
       "43644362  2    2  PTA NEW YORK CONGRESS    NY  10312  36085  201006.0   2010   \n",
       "\n",
       "           naics ntee_final  ...   totrev   exps   netinc  ass_boy  ass_eoy  \\\n",
       "ein                          ...                                              \n",
       "43644362  813410        B94  ...  51385.0  69884 -18499.0  27109.0     8610   \n",
       "43644362  813410        B94  ...  77442.0  62591  14851.0   8718.0    23569   \n",
       "\n",
       "          fundbal  x_y                                           url  \\\n",
       "ein                                                                    \n",
       "43644362     8610    1  https://www.guidestar.org/profile/04-3644362   \n",
       "43644362    23569    1  https://www.guidestar.org/profile/04-3644362   \n",
       "\n",
       "                address  yearm  \n",
       "ein                             \n",
       "43644362  255 ionia ave   2009  \n",
       "43644362  255 ionia ave   2010  \n",
       "\n",
       "[2 rows x 27 columns]"
      ]
     },
     "execution_count": 9,
     "metadata": {},
     "output_type": "execute_result"
    }
   ],
   "source": [
    "pnyc.head(2)"
   ]
  },
  {
   "cell_type": "code",
   "execution_count": 10,
   "id": "dbb90ced",
   "metadata": {},
   "outputs": [
    {
     "data": {
      "text/html": [
       "<div>\n",
       "<style scoped>\n",
       "    .dataframe tbody tr th:only-of-type {\n",
       "        vertical-align: middle;\n",
       "    }\n",
       "\n",
       "    .dataframe tbody tr th {\n",
       "        vertical-align: top;\n",
       "    }\n",
       "\n",
       "    .dataframe thead th {\n",
       "        text-align: right;\n",
       "    }\n",
       "</style>\n",
       "<table border=\"1\" class=\"dataframe\">\n",
       "  <thead>\n",
       "    <tr style=\"text-align: right;\">\n",
       "      <th></th>\n",
       "      <th>school_admission</th>\n",
       "      <th>year</th>\n",
       "      <th>schnam</th>\n",
       "      <th>year_2</th>\n",
       "      <th>schlev</th>\n",
       "      <th>schlev5</th>\n",
       "      <th>schs219962016</th>\n",
       "      <th>xdbn</th>\n",
       "      <th>xdbn_flag</th>\n",
       "      <th>enrnumprk</th>\n",
       "      <th>...</th>\n",
       "      <th>bco_executive_director</th>\n",
       "      <th>bco_executive_director_title</th>\n",
       "      <th>district_2</th>\n",
       "      <th>code</th>\n",
       "      <th>dbn_1</th>\n",
       "      <th>school</th>\n",
       "      <th>campus</th>\n",
       "      <th>comments</th>\n",
       "      <th>address</th>\n",
       "      <th>yearm</th>\n",
       "    </tr>\n",
       "    <tr>\n",
       "      <th>dbn</th>\n",
       "      <th></th>\n",
       "      <th></th>\n",
       "      <th></th>\n",
       "      <th></th>\n",
       "      <th></th>\n",
       "      <th></th>\n",
       "      <th></th>\n",
       "      <th></th>\n",
       "      <th></th>\n",
       "      <th></th>\n",
       "      <th></th>\n",
       "      <th></th>\n",
       "      <th></th>\n",
       "      <th></th>\n",
       "      <th></th>\n",
       "      <th></th>\n",
       "      <th></th>\n",
       "      <th></th>\n",
       "      <th></th>\n",
       "      <th></th>\n",
       "      <th></th>\n",
       "    </tr>\n",
       "  </thead>\n",
       "  <tbody>\n",
       "    <tr>\n",
       "      <th>01M450</th>\n",
       "      <td>NaN</td>\n",
       "      <td>NaN</td>\n",
       "      <td>EAST SIDE COMMUNITY HIGH SCHOO</td>\n",
       "      <td>1996</td>\n",
       "      <td>NaN</td>\n",
       "      <td>NaN</td>\n",
       "      <td>NaN</td>\n",
       "      <td>01M450</td>\n",
       "      <td>0</td>\n",
       "      <td>0</td>\n",
       "      <td>...</td>\n",
       "      <td>CHU, YUET</td>\n",
       "      <td>FSC Executive Director</td>\n",
       "      <td>NaN</td>\n",
       "      <td>NaN</td>\n",
       "      <td>NaN</td>\n",
       "      <td>NaN</td>\n",
       "      <td>NaN</td>\n",
       "      <td>NaN</td>\n",
       "      <td>420 e 12 st</td>\n",
       "      <td>1996</td>\n",
       "    </tr>\n",
       "    <tr>\n",
       "      <th>01M515</th>\n",
       "      <td>NaN</td>\n",
       "      <td>NaN</td>\n",
       "      <td>LOWER EAST SIDE PREPARATORY HI</td>\n",
       "      <td>1996</td>\n",
       "      <td>NaN</td>\n",
       "      <td>NaN</td>\n",
       "      <td>NaN</td>\n",
       "      <td>01M515</td>\n",
       "      <td>0</td>\n",
       "      <td>0</td>\n",
       "      <td>...</td>\n",
       "      <td>CHU, YUET</td>\n",
       "      <td>FSC Executive Director</td>\n",
       "      <td>NaN</td>\n",
       "      <td>NaN</td>\n",
       "      <td>NaN</td>\n",
       "      <td>NaN</td>\n",
       "      <td>NaN</td>\n",
       "      <td>NaN</td>\n",
       "      <td>145 stanton st</td>\n",
       "      <td>1996</td>\n",
       "    </tr>\n",
       "  </tbody>\n",
       "</table>\n",
       "<p>2 rows × 309 columns</p>\n",
       "</div>"
      ],
      "text/plain": [
       "       school_admission  year                          schnam  year_2  schlev  \\\n",
       "dbn                                                                             \n",
       "01M450              NaN   NaN  EAST SIDE COMMUNITY HIGH SCHOO    1996     NaN   \n",
       "01M515              NaN   NaN  LOWER EAST SIDE PREPARATORY HI    1996     NaN   \n",
       "\n",
       "        schlev5  schs219962016    xdbn  xdbn_flag  enrnumprk  ...  \\\n",
       "dbn                                                           ...   \n",
       "01M450      NaN            NaN  01M450          0          0  ...   \n",
       "01M515      NaN            NaN  01M515          0          0  ...   \n",
       "\n",
       "        bco_executive_director  bco_executive_director_title  district_2  \\\n",
       "dbn                                                                        \n",
       "01M450               CHU, YUET        FSC Executive Director         NaN   \n",
       "01M515               CHU, YUET        FSC Executive Director         NaN   \n",
       "\n",
       "        code  dbn_1  school  campus  comments         address  yearm  \n",
       "dbn                                                                   \n",
       "01M450   NaN    NaN     NaN     NaN       NaN     420 e 12 st   1996  \n",
       "01M515   NaN    NaN     NaN     NaN       NaN  145 stanton st   1996  \n",
       "\n",
       "[2 rows x 309 columns]"
      ]
     },
     "execution_count": 10,
     "metadata": {},
     "output_type": "execute_result"
    }
   ],
   "source": [
    "snyc1.head(2)"
   ]
  },
  {
   "cell_type": "code",
   "execution_count": 11,
   "id": "f00b383e",
   "metadata": {},
   "outputs": [
    {
     "data": {
      "text/plain": [
       "Index(['x', 'x_x', 'name', 'state', 'zip5', 'fips', 'taxper', 'fisyr', 'naics',\n",
       "       'ntee_final', 'grrec', 'cont', 'progrev', 'invinc', 'fundinc', 'grprof',\n",
       "       'othinc', 'totrev', 'exps', 'netinc', 'ass_boy', 'ass_eoy', 'fundbal',\n",
       "       'x_y', 'url', 'address', 'yearm'],\n",
       "      dtype='object')"
      ]
     },
     "execution_count": 11,
     "metadata": {},
     "output_type": "execute_result"
    }
   ],
   "source": [
    "pnyc.columns"
   ]
  },
  {
   "cell_type": "code",
   "execution_count": 12,
   "id": "2a9a567d",
   "metadata": {},
   "outputs": [
    {
     "data": {
      "text/plain": [
       "Index(['school_admission', 'year', 'schnam', 'year_2', 'schlev', 'schlev5',\n",
       "       'schs219962016', 'xdbn', 'xdbn_flag', 'enrnumprk',\n",
       "       ...\n",
       "       'bco_executive_director', 'bco_executive_director_title', 'district_2',\n",
       "       'code', 'dbn_1', 'school', 'campus', 'comments', 'address', 'yearm'],\n",
       "      dtype='object', length=309)"
      ]
     },
     "execution_count": 12,
     "metadata": {},
     "output_type": "execute_result"
    }
   ],
   "source": [
    "snyc1.columns"
   ]
  },
  {
   "cell_type": "code",
   "execution_count": 13,
   "id": "869b5727",
   "metadata": {},
   "outputs": [],
   "source": [
    "snyc1 = snyc.rename(columns={'year':'year1', 'year_2': 'year'})"
   ]
  },
  {
   "cell_type": "code",
   "execution_count": 14,
   "id": "1cb8adb8",
   "metadata": {},
   "outputs": [
    {
     "name": "stdout",
     "output_type": "stream",
     "text": [
      "Requirement already satisfied: fuzzywuzzy in ./opt/anaconda3/lib/python3.9/site-packages (0.18.0)\n",
      "Note: you may need to restart the kernel to use updated packages.\n"
     ]
    }
   ],
   "source": [
    "#pip install fuzzywuzzy"
   ]
  },
  {
   "cell_type": "code",
   "execution_count": 15,
   "id": "4f6a2021",
   "metadata": {},
   "outputs": [],
   "source": [
    "import recordlinkage"
   ]
  },
  {
   "cell_type": "code",
   "execution_count": 16,
   "id": "75ea0ae2",
   "metadata": {},
   "outputs": [
    {
     "name": "stdout",
     "output_type": "stream",
     "text": [
      "WARNING:recordlinkage:indexing - performance warning - A full index can result in large number of record pairs.\n"
     ]
    },
    {
     "data": {
      "text/plain": [
       "<Index>"
      ]
     },
     "execution_count": 16,
     "metadata": {},
     "output_type": "execute_result"
    }
   ],
   "source": [
    "indexer = recordlinkage.Index()\n",
    "indexer.full()"
   ]
  },
  {
   "cell_type": "code",
   "execution_count": 17,
   "id": "d366c4d7",
   "metadata": {},
   "outputs": [
    {
     "data": {
      "text/plain": [
       "True"
      ]
     },
     "execution_count": 17,
     "metadata": {},
     "output_type": "execute_result"
    }
   ],
   "source": [
    "snyc1.index.has_duplicates\n",
    "pnyc.index.has_duplicates"
   ]
  },
  {
   "cell_type": "code",
   "execution_count": 18,
   "id": "50c7ef58",
   "metadata": {},
   "outputs": [],
   "source": [
    "\n",
    "snyc1 = snyc1.reset_index()\n",
    "pnyc = pnyc.reset_index()"
   ]
  },
  {
   "cell_type": "code",
   "execution_count": 19,
   "id": "dc757b34",
   "metadata": {},
   "outputs": [
    {
     "name": "stdout",
     "output_type": "stream",
     "text": [
      "705891404\n"
     ]
    }
   ],
   "source": [
    "candidates = indexer.index(pnyc, snyc1)\n",
    "print(len(candidates))"
   ]
  },
  {
   "cell_type": "code",
   "execution_count": 20,
   "id": "96b4e274",
   "metadata": {},
   "outputs": [],
   "source": [
    "left_on = [ \"address\", \"yearm\", \"zip5\"]\n",
    "\n",
    "right_on = [\n",
    "     \"address\", \"year\",\n",
    "    \"zip\"\n",
    "]\n"
   ]
  },
  {
   "cell_type": "code",
   "execution_count": 21,
   "id": "a7fa1349",
   "metadata": {},
   "outputs": [
    {
     "name": "stdout",
     "output_type": "stream",
     "text": [
      "3044382\n"
     ]
    }
   ],
   "source": [
    "indexer = recordlinkage.Index()\n",
    "indexer.block(left_on='zip5', right_on='zip')\n",
    "candidates = indexer.index(pnyc, snyc1)\n",
    "print(len(candidates))"
   ]
  },
  {
   "cell_type": "code",
   "execution_count": 22,
   "id": "26cedd57",
   "metadata": {},
   "outputs": [],
   "source": [
    "compare = recordlinkage.Compare()\n",
    "compare.exact('yearm', 'year', label ='Year')\n",
    "compare.string('address',\n",
    "            'address',\n",
    "            method='jarowinkler',\n",
    "            threshold=0.85,\n",
    "            label ='Address')\n",
    "features = compare.compute(candidates,pnyc,snyc1)"
   ]
  },
  {
   "cell_type": "code",
   "execution_count": 23,
   "id": "6824b749",
   "metadata": {},
   "outputs": [
    {
     "data": {
      "text/plain": [
       "2.0       5255\n",
       "1.0     238973\n",
       "0.0    2800154\n",
       "dtype: int64"
      ]
     },
     "execution_count": 23,
     "metadata": {},
     "output_type": "execute_result"
    }
   ],
   "source": [
    "features.sum(axis=1).value_counts().sort_index(ascending=False)"
   ]
  },
  {
   "cell_type": "code",
   "execution_count": 24,
   "id": "7c3a5d80",
   "metadata": {},
   "outputs": [
    {
     "name": "stdout",
     "output_type": "stream",
     "text": [
      "      level_0  level_1  Year  Address  Score\n",
      "0           0    28219     1      1.0    2.0\n",
      "1           1    30343     1      1.0    2.0\n",
      "2           2    32491     1      1.0    2.0\n",
      "3         343    30370     1      1.0    2.0\n",
      "4         427    11462     1      1.0    2.0\n",
      "...       ...      ...   ...      ...    ...\n",
      "5250    17448    33546     1      1.0    2.0\n",
      "5251    17449    35685     1      1.0    2.0\n",
      "5252    17449    35693     1      1.0    2.0\n",
      "5253    17010    28143     1      1.0    2.0\n",
      "5254    17011    32414     1      1.0    2.0\n",
      "\n",
      "[5255 rows x 5 columns]\n"
     ]
    }
   ],
   "source": [
    "potential_matches = features[features.sum(axis=1) > 1].reset_index()\n",
    "potential_matches['Score'] = potential_matches.loc[:, 'Year':'Address'].sum(axis=1)\n",
    "print(potential_matches)"
   ]
  },
  {
   "cell_type": "code",
   "execution_count": 25,
   "id": "c04a585b",
   "metadata": {},
   "outputs": [
    {
     "data": {
      "text/plain": [
       "Index(['level_0', 'level_1', 'Year', 'Address', 'Score'], dtype='object')"
      ]
     },
     "execution_count": 25,
     "metadata": {},
     "output_type": "execute_result"
    }
   ],
   "source": [
    "potential_matches.head(50)\n",
    "potential_matches.columns"
   ]
  },
  {
   "cell_type": "code",
   "execution_count": 26,
   "id": "b2d9c014",
   "metadata": {},
   "outputs": [
    {
     "data": {
      "text/plain": [
       "ein                                              133191412\n",
       "x                                                     9981\n",
       "x_x                                                   9981\n",
       "name                          ROCKING HORSE NURSERY SCHOOL\n",
       "state                                                   NY\n",
       "zip5                                                 10023\n",
       "fips                                                 36061\n",
       "taxper                                            201006.0\n",
       "fisyr                                                 2010\n",
       "naics                                               611110\n",
       "ntee_final                                             B21\n",
       "grrec                                               174088\n",
       "cont                                                     0\n",
       "progrev                                           174088.0\n",
       "invinc                                                   0\n",
       "fundinc                                                0.0\n",
       "grprof                                                   0\n",
       "othinc                                                 0.0\n",
       "totrev                                            174088.0\n",
       "exps                                                179770\n",
       "netinc                                             -5682.0\n",
       "ass_boy                                            21997.0\n",
       "ass_eoy                                              17746\n",
       "fundbal                                              10715\n",
       "x_y                                                   9966\n",
       "url           https://www.guidestar.org/profile/13-3191412\n",
       "address                                        120 w 69 st\n",
       "yearm                                                 2010\n",
       "Name: 8590, dtype: object"
      ]
     },
     "execution_count": 26,
     "metadata": {},
     "output_type": "execute_result"
    }
   ],
   "source": [
    "pnyc.loc[8590,:]"
   ]
  },
  {
   "cell_type": "code",
   "execution_count": 27,
   "id": "79e56195",
   "metadata": {},
   "outputs": [
    {
     "data": {
      "text/plain": [
       "dbn                               03M859\n",
       "school_admission                     NaN\n",
       "year1                             2010.0\n",
       "schnam              SPECIAL MUSIC SCHOOL\n",
       "year                                2010\n",
       "                            ...         \n",
       "school              SPECIAL MUSIC SCHOOL\n",
       "campus                               NaN\n",
       "comments               2013 New Programs\n",
       "address                      129 w 67 st\n",
       "yearm                               2010\n",
       "Name: 28694, Length: 310, dtype: object"
      ]
     },
     "execution_count": 27,
     "metadata": {},
     "output_type": "execute_result"
    }
   ],
   "source": [
    "snyc1.loc[28694,:]"
   ]
  },
  {
   "cell_type": "code",
   "execution_count": 28,
   "id": "1eb8b6d7",
   "metadata": {},
   "outputs": [],
   "source": [
    "pnyc['address'].fillna('', inplace=True)\n",
    "snyc1['address'].fillna('', inplace=True)\n",
    "pnyc['zip5'].fillna('', inplace=True)\n",
    "snyc1['zip'].fillna('', inplace=True)\n",
    "pnyc['yearm'].fillna('', inplace=True)\n",
    "snyc1['year'].fillna('', inplace=True)"
   ]
  },
  {
   "cell_type": "code",
   "execution_count": 29,
   "id": "46db8176",
   "metadata": {},
   "outputs": [],
   "source": [
    "pnyc['yearm']=pnyc['yearm'].map(str)\n",
    "pnyc['address']=pnyc['address'].map(str)\n",
    "pnyc['zip5']=pnyc['zip5'].map(str)\n",
    "pnyc['ein']=pnyc['ein'].map(str)\n",
    "pnyc['name']=pnyc['name'].map(str)"
   ]
  },
  {
   "cell_type": "code",
   "execution_count": 42,
   "id": "6a8fa93d",
   "metadata": {},
   "outputs": [],
   "source": [
    "snyc1['year']=snyc1['year'].map(str)\n",
    "snyc1['address']=snyc1['address'].map(str)\n",
    "snyc1['zip']=snyc1['zip'].map(str)\n",
    "snyc1['dbn']=snyc1['dbn'].map(str)\n",
    "snyc1['schnam']=snyc1['schnam'].map(str)\n",
    "snyc1['location_category_description'] = snyc1['location_category_description'].map(str)"
   ]
  },
  {
   "cell_type": "code",
   "execution_count": 43,
   "id": "103d82df",
   "metadata": {},
   "outputs": [],
   "source": [
    "pnyc['pta_address_Lookup'] = pnyc[[\n",
    "    'address'\n",
    "]].apply(lambda x: '_'.join(x), axis=1)\n",
    "\n",
    "pnyc['pta_year_Lookup'] = pnyc[[\n",
    "    'yearm'\n",
    "]].apply(lambda x: '_'.join(x), axis=1)\n",
    "\n",
    "pnyc['pta_ein_Lookup'] = pnyc[[\n",
    "    'ein'\n",
    "]].apply(lambda x: '_'.join(x), axis=1)\n",
    "\n",
    "pnyc['pta_zip_Lookup'] = pnyc[[\n",
    "    'zip5'\n",
    "]].apply(lambda x: '_'.join(x), axis=1)\n",
    "\n",
    "pnyc['pta_name_Lookup'] = pnyc[[\n",
    "    'name'\n",
    "]].apply(lambda x: '_'.join(x), axis=1)\n",
    "\n",
    "snyc1['school_address_Lookup'] = snyc1[[\n",
    "    'address'\n",
    "]].apply(lambda x: '_'.join(x), axis=1)\n",
    "\n",
    "snyc1['school_year_Lookup'] = snyc1[[\n",
    "    'year'\n",
    "]].apply(lambda x: '_'.join(x), axis=1)\n",
    "\n",
    "snyc1['school_dbn_Lookup'] = snyc1[[\n",
    "    'dbn'\n",
    "]].apply(lambda x: '_'.join(x), axis=1)\n",
    "\n",
    "snyc1['school_zip_Lookup'] = snyc1[[\n",
    "    'zip'\n",
    "]].apply(lambda x: '_'.join(x), axis=1)\n",
    "\n",
    "snyc1['school_name_Lookup'] = snyc1[[\n",
    "    'schnam'\n",
    "]].apply(lambda x: '_'.join(x), axis=1)\n",
    "\n",
    "snyc1['school_cate_Lookup'] = snyc1[[\n",
    "    'location_category_description'\n",
    "]].apply(lambda x: '_'.join(x), axis=1)\n",
    "\n",
    "pta_lookup = pnyc[['pta_address_Lookup']].reset_index()\n",
    "pta_year_lookup = pnyc[['pta_year_Lookup']].reset_index()\n",
    "pta_ein_lookup = pnyc[['pta_ein_Lookup']].reset_index()\n",
    "pta_zip_lookup = pnyc[['pta_zip_Lookup']].reset_index()\n",
    "pta_name_lookup = pnyc[['pta_name_Lookup']].reset_index()\n",
    "\n",
    "school_lookup = snyc1[['school_address_Lookup']].reset_index()\n",
    "school_year_lookup = snyc1[['school_year_Lookup']].reset_index()\n",
    "school_dbn_lookup = snyc1[['school_dbn_Lookup']].reset_index()\n",
    "school_zip_lookup = snyc1[['school_zip_Lookup']].reset_index()\n",
    "school_cate_lookup = snyc1[['school_cate_Lookup']].reset_index()"
   ]
  },
  {
   "cell_type": "code",
   "execution_count": 44,
   "id": "b20f60ee",
   "metadata": {},
   "outputs": [],
   "source": [
    "school_name_lookup = snyc1[['school_name_Lookup']].reset_index()"
   ]
  },
  {
   "cell_type": "code",
   "execution_count": 45,
   "id": "2d201583",
   "metadata": {},
   "outputs": [],
   "source": [
    "pta_lookup.head()\n",
    "pta_lookup = pta_lookup.rename(columns={'index':'level_0'})"
   ]
  },
  {
   "cell_type": "code",
   "execution_count": 46,
   "id": "7221ce79",
   "metadata": {},
   "outputs": [],
   "source": [
    "pta_year_lookup.head()\n",
    "pta_year_lookup = pta_year_lookup.rename(columns={'index':'level_0'})\n",
    "pta_ein_lookup = pta_ein_lookup.rename(columns={'index':'level_0'})\n",
    "pta_zip_lookup = pta_zip_lookup.rename(columns={'index':'level_0'})\n",
    "pta_name_lookup = pta_name_lookup.rename(columns={'index':'level_0'})"
   ]
  },
  {
   "cell_type": "code",
   "execution_count": 47,
   "id": "b0d5a9a4",
   "metadata": {},
   "outputs": [],
   "source": [
    "school_lookup.head()\n",
    "school_lookup = school_lookup.rename(columns={'index':'level_1'})\n",
    "school_year_lookup = school_year_lookup.rename(columns={'index':'level_1'})\n",
    "school_dbn_lookup = school_dbn_lookup.rename(columns={'index':'level_1'})\n",
    "school_zip_lookup = school_zip_lookup.rename(columns={'index':'level_1'})\n",
    "school_name_lookup = school_name_lookup.rename(columns={'index':'level_1'})\n",
    "school_cate_lookup = school_cate_lookup.rename(columns={'index':'level_1'})"
   ]
  },
  {
   "cell_type": "code",
   "execution_count": 48,
   "id": "ba2d0678",
   "metadata": {},
   "outputs": [
    {
     "data": {
      "text/html": [
       "<div>\n",
       "<style scoped>\n",
       "    .dataframe tbody tr th:only-of-type {\n",
       "        vertical-align: middle;\n",
       "    }\n",
       "\n",
       "    .dataframe tbody tr th {\n",
       "        vertical-align: top;\n",
       "    }\n",
       "\n",
       "    .dataframe thead th {\n",
       "        text-align: right;\n",
       "    }\n",
       "</style>\n",
       "<table border=\"1\" class=\"dataframe\">\n",
       "  <thead>\n",
       "    <tr style=\"text-align: right;\">\n",
       "      <th></th>\n",
       "      <th>level_0</th>\n",
       "      <th>level_1</th>\n",
       "      <th>Year</th>\n",
       "      <th>Address</th>\n",
       "      <th>Score</th>\n",
       "      <th>pta_address_Lookup</th>\n",
       "    </tr>\n",
       "  </thead>\n",
       "  <tbody>\n",
       "    <tr>\n",
       "      <th>0</th>\n",
       "      <td>0</td>\n",
       "      <td>28219</td>\n",
       "      <td>1</td>\n",
       "      <td>1.0</td>\n",
       "      <td>2.0</td>\n",
       "      <td>255 ionia ave</td>\n",
       "    </tr>\n",
       "    <tr>\n",
       "      <th>1</th>\n",
       "      <td>1</td>\n",
       "      <td>30343</td>\n",
       "      <td>1</td>\n",
       "      <td>1.0</td>\n",
       "      <td>2.0</td>\n",
       "      <td>255 ionia ave</td>\n",
       "    </tr>\n",
       "    <tr>\n",
       "      <th>2</th>\n",
       "      <td>2</td>\n",
       "      <td>32491</td>\n",
       "      <td>1</td>\n",
       "      <td>1.0</td>\n",
       "      <td>2.0</td>\n",
       "      <td>255 ionia ave</td>\n",
       "    </tr>\n",
       "    <tr>\n",
       "      <th>3</th>\n",
       "      <td>343</td>\n",
       "      <td>30370</td>\n",
       "      <td>1</td>\n",
       "      <td>1.0</td>\n",
       "      <td>2.0</td>\n",
       "      <td>455 huguenot ave</td>\n",
       "    </tr>\n",
       "    <tr>\n",
       "      <th>4</th>\n",
       "      <td>427</td>\n",
       "      <td>11462</td>\n",
       "      <td>1</td>\n",
       "      <td>1.0</td>\n",
       "      <td>2.0</td>\n",
       "      <td>380 genesee ave</td>\n",
       "    </tr>\n",
       "  </tbody>\n",
       "</table>\n",
       "</div>"
      ],
      "text/plain": [
       "   level_0  level_1  Year  Address  Score pta_address_Lookup\n",
       "0        0    28219     1      1.0    2.0      255 ionia ave\n",
       "1        1    30343     1      1.0    2.0      255 ionia ave\n",
       "2        2    32491     1      1.0    2.0      255 ionia ave\n",
       "3      343    30370     1      1.0    2.0   455 huguenot ave\n",
       "4      427    11462     1      1.0    2.0    380 genesee ave"
      ]
     },
     "execution_count": 48,
     "metadata": {},
     "output_type": "execute_result"
    }
   ],
   "source": [
    "school_merge = potential_matches.merge(pta_lookup, on='level_0',how='left')\n",
    "school_merge.head()"
   ]
  },
  {
   "cell_type": "code",
   "execution_count": 49,
   "id": "43c0a373",
   "metadata": {},
   "outputs": [],
   "source": [
    "school_merge = school_merge.merge(pta_year_lookup, on='level_0',how='left')\n",
    "school_merge = school_merge.merge(pta_ein_lookup, on='level_0',how='left')\n",
    "school_merge = school_merge.merge(pta_zip_lookup, on='level_0',how='left')\n",
    "school_merge = school_merge.merge(pta_name_lookup, on='level_0',how='left')"
   ]
  },
  {
   "cell_type": "code",
   "execution_count": 50,
   "id": "aae39f4d",
   "metadata": {},
   "outputs": [],
   "source": [
    "final_merge = school_merge.merge(school_lookup, on='level_1', how='left')\n",
    "final_merge = final_merge.merge(school_year_lookup, on='level_1', how='left')\n",
    "final_merge = final_merge.merge(school_dbn_lookup, on='level_1', how='left')\n",
    "final_merge = final_merge.merge(school_zip_lookup, on='level_1', how='left')\n",
    "final_merge = final_merge.merge(school_name_lookup, on='level_1', how='left')\n",
    "final_merge = final_merge.merge(school_cate_lookup, on='level_1', how='left')"
   ]
  },
  {
   "cell_type": "code",
   "execution_count": 51,
   "id": "8101d948",
   "metadata": {},
   "outputs": [
    {
     "data": {
      "text/html": [
       "<div>\n",
       "<style scoped>\n",
       "    .dataframe tbody tr th:only-of-type {\n",
       "        vertical-align: middle;\n",
       "    }\n",
       "\n",
       "    .dataframe tbody tr th {\n",
       "        vertical-align: top;\n",
       "    }\n",
       "\n",
       "    .dataframe thead th {\n",
       "        text-align: right;\n",
       "    }\n",
       "</style>\n",
       "<table border=\"1\" class=\"dataframe\">\n",
       "  <thead>\n",
       "    <tr style=\"text-align: right;\">\n",
       "      <th></th>\n",
       "      <th>level_0</th>\n",
       "      <th>level_1</th>\n",
       "      <th>Score</th>\n",
       "      <th>pta_address_Lookup</th>\n",
       "      <th>school_address_Lookup</th>\n",
       "      <th>pta_year_Lookup</th>\n",
       "      <th>pta_zip_Lookup</th>\n",
       "      <th>pta_ein_Lookup</th>\n",
       "      <th>school_year_Lookup</th>\n",
       "      <th>school_dbn_Lookup</th>\n",
       "      <th>school_zip_Lookup</th>\n",
       "      <th>school_name_Lookup</th>\n",
       "      <th>pta_name_Lookup</th>\n",
       "      <th>school_cate_Lookup</th>\n",
       "    </tr>\n",
       "  </thead>\n",
       "  <tbody>\n",
       "    <tr>\n",
       "      <th>3330</th>\n",
       "      <td>19588</td>\n",
       "      <td>7371</td>\n",
       "      <td>2.0</td>\n",
       "      <td>120 w 83 st</td>\n",
       "      <td>100 w 84 st</td>\n",
       "      <td>2002</td>\n",
       "      <td>10024</td>\n",
       "      <td>912170392</td>\n",
       "      <td>2002</td>\n",
       "      <td>03M009</td>\n",
       "      <td>10024.0</td>\n",
       "      <td>SARAH ANDERSON</td>\n",
       "      <td>ENGINE COMPANY 74 FAMILY FUND INC</td>\n",
       "      <td>Elementary</td>\n",
       "    </tr>\n",
       "    <tr>\n",
       "      <th>3331</th>\n",
       "      <td>19588</td>\n",
       "      <td>7377</td>\n",
       "      <td>2.0</td>\n",
       "      <td>120 w 83 st</td>\n",
       "      <td>160 w 78 st</td>\n",
       "      <td>2002</td>\n",
       "      <td>10024</td>\n",
       "      <td>912170392</td>\n",
       "      <td>2002</td>\n",
       "      <td>03M087</td>\n",
       "      <td>10024.0</td>\n",
       "      <td>WILLIAM SHERMAN</td>\n",
       "      <td>ENGINE COMPANY 74 FAMILY FUND INC</td>\n",
       "      <td>Elementary</td>\n",
       "    </tr>\n",
       "    <tr>\n",
       "      <th>3332</th>\n",
       "      <td>19588</td>\n",
       "      <td>7382</td>\n",
       "      <td>2.0</td>\n",
       "      <td>120 w 83 st</td>\n",
       "      <td>132 w 89 st</td>\n",
       "      <td>2002</td>\n",
       "      <td>10024</td>\n",
       "      <td>912170392</td>\n",
       "      <td>2002</td>\n",
       "      <td>03M166</td>\n",
       "      <td>10024.0</td>\n",
       "      <td>MANHATTAN SCHOOL OF ARTS &amp; TEC</td>\n",
       "      <td>ENGINE COMPANY 74 FAMILY FUND INC</td>\n",
       "      <td>Elementary</td>\n",
       "    </tr>\n",
       "    <tr>\n",
       "      <th>3333</th>\n",
       "      <td>19588</td>\n",
       "      <td>7391</td>\n",
       "      <td>2.0</td>\n",
       "      <td>120 w 83 st</td>\n",
       "      <td>100 w 84 st</td>\n",
       "      <td>2002</td>\n",
       "      <td>10024</td>\n",
       "      <td>912170392</td>\n",
       "      <td>2002</td>\n",
       "      <td>03M243</td>\n",
       "      <td>10024.0</td>\n",
       "      <td>THE CENTER SCHOOL</td>\n",
       "      <td>ENGINE COMPANY 74 FAMILY FUND INC</td>\n",
       "      <td>Junior High-Intermediate-Middle</td>\n",
       "    </tr>\n",
       "    <tr>\n",
       "      <th>64</th>\n",
       "      <td>19580</td>\n",
       "      <td>4514</td>\n",
       "      <td>2.0</td>\n",
       "      <td>1270 huguenot ave</td>\n",
       "      <td>1270 huguenot av</td>\n",
       "      <td>1999</td>\n",
       "      <td>10312</td>\n",
       "      <td>911960939</td>\n",
       "      <td>1999</td>\n",
       "      <td>31R007</td>\n",
       "      <td>10312.0</td>\n",
       "      <td>ELIAS BERNSTEIN I.S. #7</td>\n",
       "      <td>PTA NEW YORK CONGRESS</td>\n",
       "      <td>Junior High-Intermediate-Middle</td>\n",
       "    </tr>\n",
       "    <tr>\n",
       "      <th>...</th>\n",
       "      <td>...</td>\n",
       "      <td>...</td>\n",
       "      <td>...</td>\n",
       "      <td>...</td>\n",
       "      <td>...</td>\n",
       "      <td>...</td>\n",
       "      <td>...</td>\n",
       "      <td>...</td>\n",
       "      <td>...</td>\n",
       "      <td>...</td>\n",
       "      <td>...</td>\n",
       "      <td>...</td>\n",
       "      <td>...</td>\n",
       "      <td>...</td>\n",
       "    </tr>\n",
       "    <tr>\n",
       "      <th>762</th>\n",
       "      <td>32</td>\n",
       "      <td>3209</td>\n",
       "      <td>2.0</td>\n",
       "      <td>6435 102 st</td>\n",
       "      <td>63-55 102 st</td>\n",
       "      <td>1998</td>\n",
       "      <td>11374</td>\n",
       "      <td>112405496</td>\n",
       "      <td>1998</td>\n",
       "      <td>28Q157</td>\n",
       "      <td>11374.0</td>\n",
       "      <td>STEPHEN HALSEY - I.S. # 157</td>\n",
       "      <td>PARENTS ASSOCIATION OF P S 175Q</td>\n",
       "      <td>Junior High-Intermediate-Middle</td>\n",
       "    </tr>\n",
       "    <tr>\n",
       "      <th>763</th>\n",
       "      <td>32</td>\n",
       "      <td>3212</td>\n",
       "      <td>2.0</td>\n",
       "      <td>6435 102 st</td>\n",
       "      <td>64-35 102 st</td>\n",
       "      <td>1998</td>\n",
       "      <td>11374</td>\n",
       "      <td>112405496</td>\n",
       "      <td>1998</td>\n",
       "      <td>28Q175</td>\n",
       "      <td>11374.0</td>\n",
       "      <td>LYNN GROSS DISCOVERY SCHOOL</td>\n",
       "      <td>PARENTS ASSOCIATION OF P S 175Q</td>\n",
       "      <td>Elementary</td>\n",
       "    </tr>\n",
       "    <tr>\n",
       "      <th>2</th>\n",
       "      <td>2</td>\n",
       "      <td>32491</td>\n",
       "      <td>2.0</td>\n",
       "      <td>255 ionia ave</td>\n",
       "      <td>255 ionia av</td>\n",
       "      <td>2011</td>\n",
       "      <td>10312</td>\n",
       "      <td>43644362</td>\n",
       "      <td>2011</td>\n",
       "      <td>31R036</td>\n",
       "      <td>10312.0</td>\n",
       "      <td>P.S. 036 J. C. DRUMGOOLE</td>\n",
       "      <td>PTA NEW YORK CONGRESS 36 PUBLIC SCHOOL PTA</td>\n",
       "      <td>Elementary</td>\n",
       "    </tr>\n",
       "    <tr>\n",
       "      <th>1</th>\n",
       "      <td>1</td>\n",
       "      <td>30343</td>\n",
       "      <td>2.0</td>\n",
       "      <td>255 ionia ave</td>\n",
       "      <td>255 ionia av</td>\n",
       "      <td>2010</td>\n",
       "      <td>10312</td>\n",
       "      <td>43644362</td>\n",
       "      <td>2010</td>\n",
       "      <td>31R036</td>\n",
       "      <td>10312.0</td>\n",
       "      <td>P.S. 036 J. C. DRUMGOOLE</td>\n",
       "      <td>PTA NEW YORK CONGRESS</td>\n",
       "      <td>Elementary</td>\n",
       "    </tr>\n",
       "    <tr>\n",
       "      <th>0</th>\n",
       "      <td>0</td>\n",
       "      <td>28219</td>\n",
       "      <td>2.0</td>\n",
       "      <td>255 ionia ave</td>\n",
       "      <td>255 ionia av</td>\n",
       "      <td>2009</td>\n",
       "      <td>10312</td>\n",
       "      <td>43644362</td>\n",
       "      <td>2009</td>\n",
       "      <td>31R036</td>\n",
       "      <td>10312.0</td>\n",
       "      <td>P.S. 036 J. C. DRUMGOOLE</td>\n",
       "      <td>PTA NEW YORK CONGRESS</td>\n",
       "      <td>Elementary</td>\n",
       "    </tr>\n",
       "  </tbody>\n",
       "</table>\n",
       "<p>5255 rows × 14 columns</p>\n",
       "</div>"
      ],
      "text/plain": [
       "      level_0  level_1  Score pta_address_Lookup school_address_Lookup  \\\n",
       "3330    19588     7371    2.0        120 w 83 st           100 w 84 st   \n",
       "3331    19588     7377    2.0        120 w 83 st           160 w 78 st   \n",
       "3332    19588     7382    2.0        120 w 83 st           132 w 89 st   \n",
       "3333    19588     7391    2.0        120 w 83 st           100 w 84 st   \n",
       "64      19580     4514    2.0  1270 huguenot ave      1270 huguenot av   \n",
       "...       ...      ...    ...                ...                   ...   \n",
       "762        32     3209    2.0        6435 102 st          63-55 102 st   \n",
       "763        32     3212    2.0        6435 102 st          64-35 102 st   \n",
       "2           2    32491    2.0      255 ionia ave          255 ionia av   \n",
       "1           1    30343    2.0      255 ionia ave          255 ionia av   \n",
       "0           0    28219    2.0      255 ionia ave          255 ionia av   \n",
       "\n",
       "     pta_year_Lookup pta_zip_Lookup pta_ein_Lookup school_year_Lookup  \\\n",
       "3330            2002          10024      912170392               2002   \n",
       "3331            2002          10024      912170392               2002   \n",
       "3332            2002          10024      912170392               2002   \n",
       "3333            2002          10024      912170392               2002   \n",
       "64              1999          10312      911960939               1999   \n",
       "...              ...            ...            ...                ...   \n",
       "762             1998          11374      112405496               1998   \n",
       "763             1998          11374      112405496               1998   \n",
       "2               2011          10312       43644362               2011   \n",
       "1               2010          10312       43644362               2010   \n",
       "0               2009          10312       43644362               2009   \n",
       "\n",
       "     school_dbn_Lookup school_zip_Lookup              school_name_Lookup  \\\n",
       "3330            03M009           10024.0                  SARAH ANDERSON   \n",
       "3331            03M087           10024.0                 WILLIAM SHERMAN   \n",
       "3332            03M166           10024.0  MANHATTAN SCHOOL OF ARTS & TEC   \n",
       "3333            03M243           10024.0               THE CENTER SCHOOL   \n",
       "64              31R007           10312.0         ELIAS BERNSTEIN I.S. #7   \n",
       "...                ...               ...                             ...   \n",
       "762             28Q157           11374.0     STEPHEN HALSEY - I.S. # 157   \n",
       "763             28Q175           11374.0     LYNN GROSS DISCOVERY SCHOOL   \n",
       "2               31R036           10312.0        P.S. 036 J. C. DRUMGOOLE   \n",
       "1               31R036           10312.0        P.S. 036 J. C. DRUMGOOLE   \n",
       "0               31R036           10312.0        P.S. 036 J. C. DRUMGOOLE   \n",
       "\n",
       "                                 pta_name_Lookup  \\\n",
       "3330           ENGINE COMPANY 74 FAMILY FUND INC   \n",
       "3331           ENGINE COMPANY 74 FAMILY FUND INC   \n",
       "3332           ENGINE COMPANY 74 FAMILY FUND INC   \n",
       "3333           ENGINE COMPANY 74 FAMILY FUND INC   \n",
       "64                         PTA NEW YORK CONGRESS   \n",
       "...                                          ...   \n",
       "762              PARENTS ASSOCIATION OF P S 175Q   \n",
       "763              PARENTS ASSOCIATION OF P S 175Q   \n",
       "2     PTA NEW YORK CONGRESS 36 PUBLIC SCHOOL PTA   \n",
       "1                          PTA NEW YORK CONGRESS   \n",
       "0                          PTA NEW YORK CONGRESS   \n",
       "\n",
       "                   school_cate_Lookup  \n",
       "3330                       Elementary  \n",
       "3331                       Elementary  \n",
       "3332                       Elementary  \n",
       "3333  Junior High-Intermediate-Middle  \n",
       "64    Junior High-Intermediate-Middle  \n",
       "...                               ...  \n",
       "762   Junior High-Intermediate-Middle  \n",
       "763                        Elementary  \n",
       "2                          Elementary  \n",
       "1                          Elementary  \n",
       "0                          Elementary  \n",
       "\n",
       "[5255 rows x 14 columns]"
      ]
     },
     "execution_count": 51,
     "metadata": {},
     "output_type": "execute_result"
    }
   ],
   "source": [
    "cols = ['level_0', 'level_1', 'Score',\n",
    "        'pta_address_Lookup', 'school_address_Lookup', 'pta_year_Lookup','pta_zip_Lookup','pta_ein_Lookup', 'school_year_Lookup', 'school_dbn_Lookup', 'school_zip_Lookup', 'school_name_Lookup', 'pta_name_Lookup', 'school_cate_Lookup']\n",
    "final_merge[cols].sort_values(by=['level_0', 'Score'], ascending=False)"
   ]
  },
  {
   "cell_type": "code",
   "execution_count": 52,
   "id": "44fe2ee9",
   "metadata": {},
   "outputs": [
    {
     "data": {
      "text/html": [
       "<div>\n",
       "<style scoped>\n",
       "    .dataframe tbody tr th:only-of-type {\n",
       "        vertical-align: middle;\n",
       "    }\n",
       "\n",
       "    .dataframe tbody tr th {\n",
       "        vertical-align: top;\n",
       "    }\n",
       "\n",
       "    .dataframe thead th {\n",
       "        text-align: right;\n",
       "    }\n",
       "</style>\n",
       "<table border=\"1\" class=\"dataframe\">\n",
       "  <thead>\n",
       "    <tr style=\"text-align: right;\">\n",
       "      <th></th>\n",
       "      <th>level_0</th>\n",
       "      <th>level_1</th>\n",
       "      <th>Score</th>\n",
       "      <th>pta_address_Lookup</th>\n",
       "      <th>school_address_Lookup</th>\n",
       "      <th>pta_year_Lookup</th>\n",
       "      <th>pta_zip_Lookup</th>\n",
       "      <th>pta_ein_Lookup</th>\n",
       "      <th>school_year_Lookup</th>\n",
       "      <th>school_dbn_Lookup</th>\n",
       "      <th>school_zip_Lookup</th>\n",
       "      <th>school_name_Lookup</th>\n",
       "      <th>pta_name_Lookup</th>\n",
       "      <th>school_cate_Lookup</th>\n",
       "    </tr>\n",
       "  </thead>\n",
       "  <tbody>\n",
       "    <tr>\n",
       "      <th>762</th>\n",
       "      <td>32</td>\n",
       "      <td>3209</td>\n",
       "      <td>2.0</td>\n",
       "      <td>6435 102 st</td>\n",
       "      <td>63-55 102 st</td>\n",
       "      <td>1998</td>\n",
       "      <td>11374</td>\n",
       "      <td>112405496</td>\n",
       "      <td>1998</td>\n",
       "      <td>28Q157</td>\n",
       "      <td>11374.0</td>\n",
       "      <td>STEPHEN HALSEY - I.S. # 157</td>\n",
       "      <td>PARENTS ASSOCIATION OF P S 175Q</td>\n",
       "      <td>Junior High-Intermediate-Middle</td>\n",
       "    </tr>\n",
       "    <tr>\n",
       "      <th>763</th>\n",
       "      <td>32</td>\n",
       "      <td>3212</td>\n",
       "      <td>2.0</td>\n",
       "      <td>6435 102 st</td>\n",
       "      <td>64-35 102 st</td>\n",
       "      <td>1998</td>\n",
       "      <td>11374</td>\n",
       "      <td>112405496</td>\n",
       "      <td>1998</td>\n",
       "      <td>28Q175</td>\n",
       "      <td>11374.0</td>\n",
       "      <td>LYNN GROSS DISCOVERY SCHOOL</td>\n",
       "      <td>PARENTS ASSOCIATION OF P S 175Q</td>\n",
       "      <td>Elementary</td>\n",
       "    </tr>\n",
       "  </tbody>\n",
       "</table>\n",
       "</div>"
      ],
      "text/plain": [
       "     level_0  level_1  Score pta_address_Lookup school_address_Lookup  \\\n",
       "762       32     3209    2.0        6435 102 st          63-55 102 st   \n",
       "763       32     3212    2.0        6435 102 st          64-35 102 st   \n",
       "\n",
       "    pta_year_Lookup pta_zip_Lookup pta_ein_Lookup school_year_Lookup  \\\n",
       "762            1998          11374      112405496               1998   \n",
       "763            1998          11374      112405496               1998   \n",
       "\n",
       "    school_dbn_Lookup school_zip_Lookup           school_name_Lookup  \\\n",
       "762            28Q157           11374.0  STEPHEN HALSEY - I.S. # 157   \n",
       "763            28Q175           11374.0  LYNN GROSS DISCOVERY SCHOOL   \n",
       "\n",
       "                     pta_name_Lookup               school_cate_Lookup  \n",
       "762  PARENTS ASSOCIATION OF P S 175Q  Junior High-Intermediate-Middle  \n",
       "763  PARENTS ASSOCIATION OF P S 175Q                       Elementary  "
      ]
     },
     "execution_count": 52,
     "metadata": {},
     "output_type": "execute_result"
    }
   ],
   "source": [
    "final_merge[final_merge['level_0']==32][cols]"
   ]
  },
  {
   "cell_type": "code",
   "execution_count": 53,
   "id": "bdb8d0e3",
   "metadata": {},
   "outputs": [],
   "source": [
    "final_merge.sort_values(by=['level_0', 'Score'],\n",
    "                    ascending=False).to_excel('merge_list.xlsx',\n",
    "                                              index=False)\n"
   ]
  },
  {
   "cell_type": "code",
   "execution_count": null,
   "id": "ce0a76b7",
   "metadata": {},
   "outputs": [],
   "source": []
  }
 ],
 "metadata": {
  "kernelspec": {
   "display_name": "Python 3 (ipykernel)",
   "language": "python",
   "name": "python3"
  },
  "language_info": {
   "codemirror_mode": {
    "name": "ipython",
    "version": 3
   },
   "file_extension": ".py",
   "mimetype": "text/x-python",
   "name": "python",
   "nbconvert_exporter": "python",
   "pygments_lexer": "ipython3",
   "version": "3.9.7"
  }
 },
 "nbformat": 4,
 "nbformat_minor": 5
}
